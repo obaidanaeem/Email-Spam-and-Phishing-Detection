{
 "cells": [
  {
   "cell_type": "markdown",
   "id": "36ddf3e8-9aaa-48ae-8fb1-627b5272295d",
   "metadata": {},
   "source": [
    "## Importing Libraries"
   ]
  },
  {
   "cell_type": "code",
   "execution_count": 32,
   "id": "5c960aa5-7126-4729-b51b-b1c07ddb185f",
   "metadata": {},
   "outputs": [],
   "source": [
    "import pandas as pd\n",
    "import numpy as np\n",
    "from sklearn.ensemble import IsolationForest\n",
    "from sklearn.feature_extraction.text import TfidfVectorizer\n",
    "from sklearn.model_selection import train_test_split, cross_val_score\n",
    "from sklearn.metrics import confusion_matrix, classification_report, accuracy_score\n",
    "import nltk\n",
    "from nltk.corpus import stopwords\n",
    "from nltk.tokenize import word_tokenize\n",
    "import re\n",
    "from sklearn.preprocessing import LabelEncoder\n",
    "from sklearn.svm import OneClassSVM\n",
    "from sklearn.preprocessing import StandardScaler\n",
    "from keras.models import Sequential\n",
    "from keras.layers import Dense"
   ]
  },
  {
   "cell_type": "markdown",
   "id": "65dc2f0e-64c3-4431-984d-53119718ab00",
   "metadata": {},
   "source": [
    "## Data Preprocessing"
   ]
  },
  {
   "cell_type": "code",
   "execution_count": 33,
   "id": "f4374a95-d15a-41eb-b75a-50e0f4b9b1ec",
   "metadata": {},
   "outputs": [],
   "source": [
    "df = pd.read_csv('Dataset I.csv')"
   ]
  },
  {
   "cell_type": "code",
   "execution_count": 34,
   "id": "0ca2fac1-61fd-44e1-99c0-4a7baff2960d",
   "metadata": {},
   "outputs": [
    {
     "data": {
      "text/html": [
       "<div>\n",
       "<style scoped>\n",
       "    .dataframe tbody tr th:only-of-type {\n",
       "        vertical-align: middle;\n",
       "    }\n",
       "\n",
       "    .dataframe tbody tr th {\n",
       "        vertical-align: top;\n",
       "    }\n",
       "\n",
       "    .dataframe thead th {\n",
       "        text-align: right;\n",
       "    }\n",
       "</style>\n",
       "<table border=\"1\" class=\"dataframe\">\n",
       "  <thead>\n",
       "    <tr style=\"text-align: right;\">\n",
       "      <th></th>\n",
       "      <th>Category</th>\n",
       "      <th>Message</th>\n",
       "      <th>phishing</th>\n",
       "    </tr>\n",
       "  </thead>\n",
       "  <tbody>\n",
       "    <tr>\n",
       "      <th>0</th>\n",
       "      <td>ham</td>\n",
       "      <td>Go until jurong point, crazy.. Available only ...</td>\n",
       "      <td>0</td>\n",
       "    </tr>\n",
       "    <tr>\n",
       "      <th>1</th>\n",
       "      <td>ham</td>\n",
       "      <td>Ok lar... Joking wif u oni...</td>\n",
       "      <td>0</td>\n",
       "    </tr>\n",
       "    <tr>\n",
       "      <th>2</th>\n",
       "      <td>spam</td>\n",
       "      <td>Free entry in 2 a wkly comp to win FA Cup fina...</td>\n",
       "      <td>1</td>\n",
       "    </tr>\n",
       "    <tr>\n",
       "      <th>3</th>\n",
       "      <td>ham</td>\n",
       "      <td>U dun say so early hor... U c already then say...</td>\n",
       "      <td>0</td>\n",
       "    </tr>\n",
       "    <tr>\n",
       "      <th>4</th>\n",
       "      <td>ham</td>\n",
       "      <td>Nah I don't think he goes to usf, he lives aro...</td>\n",
       "      <td>0</td>\n",
       "    </tr>\n",
       "  </tbody>\n",
       "</table>\n",
       "</div>"
      ],
      "text/plain": [
       "  Category                                            Message  phishing\n",
       "0      ham  Go until jurong point, crazy.. Available only ...         0\n",
       "1      ham                      Ok lar... Joking wif u oni...         0\n",
       "2     spam  Free entry in 2 a wkly comp to win FA Cup fina...         1\n",
       "3      ham  U dun say so early hor... U c already then say...         0\n",
       "4      ham  Nah I don't think he goes to usf, he lives aro...         0"
      ]
     },
     "execution_count": 34,
     "metadata": {},
     "output_type": "execute_result"
    }
   ],
   "source": [
    "df['phishing']=df['Category'].apply(lambda x: 1 if x=='spam' else 0)\n",
    "df.head()"
   ]
  },
  {
   "cell_type": "code",
   "execution_count": 35,
   "id": "f5ed8bf2-814b-4a29-87c6-69424c2e765f",
   "metadata": {},
   "outputs": [],
   "source": [
    "# Encode labels\n",
    "le = LabelEncoder()\n",
    "df['phishing'] = le.fit_transform(df['phishing'])"
   ]
  },
  {
   "cell_type": "code",
   "execution_count": 36,
   "id": "cfd5dcbd-b66f-4907-919c-d57fc207d1cb",
   "metadata": {},
   "outputs": [],
   "source": [
    "# Data Preprocessing\n",
    "def preprocess_text(text):\n",
    "    if isinstance(text, str):  # Check if the input is a string\n",
    "        # Remove URLs and punctuation/numbers in one go\n",
    "        text = re.sub(r'http\\S+|www\\S+|https\\S+', '', text)\n",
    "        text = re.sub(r'\\W|\\d', ' ', text)\n",
    "        # Tokenization and stop word removal\n",
    "        tokens = word_tokenize(text.lower())\n",
    "        tokens = [word for word in tokens if word not in stopwords.words('english')]\n",
    "        return ' '.join(tokens)\n",
    "    else:\n",
    "        return ''  # Return an empty string for non-string inputs"
   ]
  },
  {
   "cell_type": "code",
   "execution_count": 37,
   "id": "e3912293-c399-4ae7-8db1-d5bd671a3350",
   "metadata": {},
   "outputs": [],
   "source": [
    "# Apply preprocessing to the text_combined column\n",
    "df['processed_text'] = df['Message'].apply(preprocess_text)"
   ]
  },
  {
   "cell_type": "code",
   "execution_count": 38,
   "id": "63521015-1bbf-4ade-b472-70810e15e661",
   "metadata": {},
   "outputs": [],
   "source": [
    "# Feature Engineering using TF-IDF\n",
    "tfidf_vectorizer = TfidfVectorizer(max_features=1000)  \n",
    "tfidf_features = tfidf_vectorizer.fit_transform(df['processed_text']).toarray()"
   ]
  },
  {
   "cell_type": "code",
   "execution_count": 39,
   "id": "25ade1f0-4115-4caf-bf18-a8623290afc6",
   "metadata": {},
   "outputs": [],
   "source": [
    "# Create a DataFrame for TF-IDF features\n",
    "tfidf_df = pd.DataFrame(tfidf_features, columns=tfidf_vectorizer.get_feature_names_out())"
   ]
  },
  {
   "cell_type": "code",
   "execution_count": 40,
   "id": "73283342-0c86-4f4f-a0a0-cf1ff66bbcc7",
   "metadata": {},
   "outputs": [],
   "source": [
    "# Combine TF-IDF features with the original labels\n",
    "features = pd.concat([tfidf_df, df['phishing']], axis=1)"
   ]
  },
  {
   "cell_type": "code",
   "execution_count": 41,
   "id": "30adcf32-fb1c-4073-9d4e-0d2d00f0eae4",
   "metadata": {},
   "outputs": [],
   "source": [
    "# Train-test split\n",
    "X = features.drop('phishing', axis=1)\n",
    "y = features['phishing']\n",
    "X_train, X_test, y_train, y_test = train_test_split(X, y, test_size=0.2, random_state=42)"
   ]
  },
  {
   "cell_type": "markdown",
   "id": "d8abf3f7-dad9-4a5f-975d-a01739210cfe",
   "metadata": {},
   "source": [
    "## Isolation Forest Model"
   ]
  },
  {
   "cell_type": "code",
   "execution_count": 42,
   "id": "ece25512-3828-4a58-9103-0a089f5ec809",
   "metadata": {},
   "outputs": [
    {
     "name": "stderr",
     "output_type": "stream",
     "text": [
      "C:\\Users\\OBAIDA NAEEM\\anaconda3\\Lib\\site-packages\\sklearn\\base.py:439: UserWarning: X does not have valid feature names, but IsolationForest was fitted with feature names\n",
      "  warnings.warn(\n"
     ]
    },
    {
     "data": {
      "text/html": [
       "<style>#sk-container-id-3 {color: black;background-color: white;}#sk-container-id-3 pre{padding: 0;}#sk-container-id-3 div.sk-toggleable {background-color: white;}#sk-container-id-3 label.sk-toggleable__label {cursor: pointer;display: block;width: 100%;margin-bottom: 0;padding: 0.3em;box-sizing: border-box;text-align: center;}#sk-container-id-3 label.sk-toggleable__label-arrow:before {content: \"▸\";float: left;margin-right: 0.25em;color: #696969;}#sk-container-id-3 label.sk-toggleable__label-arrow:hover:before {color: black;}#sk-container-id-3 div.sk-estimator:hover label.sk-toggleable__label-arrow:before {color: black;}#sk-container-id-3 div.sk-toggleable__content {max-height: 0;max-width: 0;overflow: hidden;text-align: left;background-color: #f0f8ff;}#sk-container-id-3 div.sk-toggleable__content pre {margin: 0.2em;color: black;border-radius: 0.25em;background-color: #f0f8ff;}#sk-container-id-3 input.sk-toggleable__control:checked~div.sk-toggleable__content {max-height: 200px;max-width: 100%;overflow: auto;}#sk-container-id-3 input.sk-toggleable__control:checked~label.sk-toggleable__label-arrow:before {content: \"▾\";}#sk-container-id-3 div.sk-estimator input.sk-toggleable__control:checked~label.sk-toggleable__label {background-color: #d4ebff;}#sk-container-id-3 div.sk-label input.sk-toggleable__control:checked~label.sk-toggleable__label {background-color: #d4ebff;}#sk-container-id-3 input.sk-hidden--visually {border: 0;clip: rect(1px 1px 1px 1px);clip: rect(1px, 1px, 1px, 1px);height: 1px;margin: -1px;overflow: hidden;padding: 0;position: absolute;width: 1px;}#sk-container-id-3 div.sk-estimator {font-family: monospace;background-color: #f0f8ff;border: 1px dotted black;border-radius: 0.25em;box-sizing: border-box;margin-bottom: 0.5em;}#sk-container-id-3 div.sk-estimator:hover {background-color: #d4ebff;}#sk-container-id-3 div.sk-parallel-item::after {content: \"\";width: 100%;border-bottom: 1px solid gray;flex-grow: 1;}#sk-container-id-3 div.sk-label:hover label.sk-toggleable__label {background-color: #d4ebff;}#sk-container-id-3 div.sk-serial::before {content: \"\";position: absolute;border-left: 1px solid gray;box-sizing: border-box;top: 0;bottom: 0;left: 50%;z-index: 0;}#sk-container-id-3 div.sk-serial {display: flex;flex-direction: column;align-items: center;background-color: white;padding-right: 0.2em;padding-left: 0.2em;position: relative;}#sk-container-id-3 div.sk-item {position: relative;z-index: 1;}#sk-container-id-3 div.sk-parallel {display: flex;align-items: stretch;justify-content: center;background-color: white;position: relative;}#sk-container-id-3 div.sk-item::before, #sk-container-id-3 div.sk-parallel-item::before {content: \"\";position: absolute;border-left: 1px solid gray;box-sizing: border-box;top: 0;bottom: 0;left: 50%;z-index: -1;}#sk-container-id-3 div.sk-parallel-item {display: flex;flex-direction: column;z-index: 1;position: relative;background-color: white;}#sk-container-id-3 div.sk-parallel-item:first-child::after {align-self: flex-end;width: 50%;}#sk-container-id-3 div.sk-parallel-item:last-child::after {align-self: flex-start;width: 50%;}#sk-container-id-3 div.sk-parallel-item:only-child::after {width: 0;}#sk-container-id-3 div.sk-dashed-wrapped {border: 1px dashed gray;margin: 0 0.4em 0.5em 0.4em;box-sizing: border-box;padding-bottom: 0.4em;background-color: white;}#sk-container-id-3 div.sk-label label {font-family: monospace;font-weight: bold;display: inline-block;line-height: 1.2em;}#sk-container-id-3 div.sk-label-container {text-align: center;}#sk-container-id-3 div.sk-container {/* jupyter's `normalize.less` sets `[hidden] { display: none; }` but bootstrap.min.css set `[hidden] { display: none !important; }` so we also need the `!important` here to be able to override the default hidden behavior on the sphinx rendered scikit-learn.org. See: https://github.com/scikit-learn/scikit-learn/issues/21755 */display: inline-block !important;position: relative;}#sk-container-id-3 div.sk-text-repr-fallback {display: none;}</style><div id=\"sk-container-id-3\" class=\"sk-top-container\"><div class=\"sk-text-repr-fallback\"><pre>IsolationForest(contamination=0.1, random_state=42)</pre><b>In a Jupyter environment, please rerun this cell to show the HTML representation or trust the notebook. <br />On GitHub, the HTML representation is unable to render, please try loading this page with nbviewer.org.</b></div><div class=\"sk-container\" hidden><div class=\"sk-item\"><div class=\"sk-estimator sk-toggleable\"><input class=\"sk-toggleable__control sk-hidden--visually\" id=\"sk-estimator-id-3\" type=\"checkbox\" checked><label for=\"sk-estimator-id-3\" class=\"sk-toggleable__label sk-toggleable__label-arrow\">IsolationForest</label><div class=\"sk-toggleable__content\"><pre>IsolationForest(contamination=0.1, random_state=42)</pre></div></div></div></div></div>"
      ],
      "text/plain": [
       "IsolationForest(contamination=0.1, random_state=42)"
      ]
     },
     "execution_count": 42,
     "metadata": {},
     "output_type": "execute_result"
    }
   ],
   "source": [
    "# Initialize and fit the Isolation Forest model\n",
    "model = IsolationForest(contamination=0.10, random_state=42)\n",
    "model.fit(X_train)"
   ]
  },
  {
   "cell_type": "code",
   "execution_count": 43,
   "id": "ec2b7a4d-d45b-4b3b-9f33-6de83c240633",
   "metadata": {},
   "outputs": [],
   "source": [
    "# Predict anomalies with Isolation Forest\n",
    "y_pred_if = model.predict(X_test)\n",
    "y_pred_if = np.where(y_pred_if == -1, 1, 0)  # Convert predictions"
   ]
  },
  {
   "cell_type": "code",
   "execution_count": 44,
   "id": "80066211-9a09-4de5-85d1-f36e9ab220fa",
   "metadata": {},
   "outputs": [],
   "source": [
    "# Calculate accuracy and other metrics for Isolation Forest\n",
    "cm_if = confusion_matrix(y_test, y_pred_if)\n",
    "report_if = classification_report(y_test, y_pred_if, output_dict=True)\n",
    "accuracy_if = accuracy_score(y_test, y_pred_if)"
   ]
  },
  {
   "cell_type": "code",
   "execution_count": 45,
   "id": "40d465b1-a362-49c1-a3d0-015997cd7c60",
   "metadata": {},
   "outputs": [],
   "source": [
    "# Store Isolation Forest results\n",
    "results_if = {\n",
    "    'model': 'Isolation Forest',\n",
    "    'precision': report_if['1']['precision'],\n",
    "    'recall': report_if['1']['recall'],\n",
    "    'f1-score': report_if['1']['f1-score'],\n",
    "    'support': report_if['1']['support'],\n",
    "    'accuracy': accuracy_if\n",
    "}"
   ]
  },
  {
   "cell_type": "markdown",
   "id": "d894fc7e-fc7f-48ab-8c76-3f04793a18b7",
   "metadata": {},
   "source": [
    "## One Class SVM Model"
   ]
  },
  {
   "cell_type": "code",
   "execution_count": 46,
   "id": "443f75b3-a6cb-4c9e-bb90-dd27330379ce",
   "metadata": {},
   "outputs": [
    {
     "data": {
      "text/html": [
       "<style>#sk-container-id-4 {color: black;background-color: white;}#sk-container-id-4 pre{padding: 0;}#sk-container-id-4 div.sk-toggleable {background-color: white;}#sk-container-id-4 label.sk-toggleable__label {cursor: pointer;display: block;width: 100%;margin-bottom: 0;padding: 0.3em;box-sizing: border-box;text-align: center;}#sk-container-id-4 label.sk-toggleable__label-arrow:before {content: \"▸\";float: left;margin-right: 0.25em;color: #696969;}#sk-container-id-4 label.sk-toggleable__label-arrow:hover:before {color: black;}#sk-container-id-4 div.sk-estimator:hover label.sk-toggleable__label-arrow:before {color: black;}#sk-container-id-4 div.sk-toggleable__content {max-height: 0;max-width: 0;overflow: hidden;text-align: left;background-color: #f0f8ff;}#sk-container-id-4 div.sk-toggleable__content pre {margin: 0.2em;color: black;border-radius: 0.25em;background-color: #f0f8ff;}#sk-container-id-4 input.sk-toggleable__control:checked~div.sk-toggleable__content {max-height: 200px;max-width: 100%;overflow: auto;}#sk-container-id-4 input.sk-toggleable__control:checked~label.sk-toggleable__label-arrow:before {content: \"▾\";}#sk-container-id-4 div.sk-estimator input.sk-toggleable__control:checked~label.sk-toggleable__label {background-color: #d4ebff;}#sk-container-id-4 div.sk-label input.sk-toggleable__control:checked~label.sk-toggleable__label {background-color: #d4ebff;}#sk-container-id-4 input.sk-hidden--visually {border: 0;clip: rect(1px 1px 1px 1px);clip: rect(1px, 1px, 1px, 1px);height: 1px;margin: -1px;overflow: hidden;padding: 0;position: absolute;width: 1px;}#sk-container-id-4 div.sk-estimator {font-family: monospace;background-color: #f0f8ff;border: 1px dotted black;border-radius: 0.25em;box-sizing: border-box;margin-bottom: 0.5em;}#sk-container-id-4 div.sk-estimator:hover {background-color: #d4ebff;}#sk-container-id-4 div.sk-parallel-item::after {content: \"\";width: 100%;border-bottom: 1px solid gray;flex-grow: 1;}#sk-container-id-4 div.sk-label:hover label.sk-toggleable__label {background-color: #d4ebff;}#sk-container-id-4 div.sk-serial::before {content: \"\";position: absolute;border-left: 1px solid gray;box-sizing: border-box;top: 0;bottom: 0;left: 50%;z-index: 0;}#sk-container-id-4 div.sk-serial {display: flex;flex-direction: column;align-items: center;background-color: white;padding-right: 0.2em;padding-left: 0.2em;position: relative;}#sk-container-id-4 div.sk-item {position: relative;z-index: 1;}#sk-container-id-4 div.sk-parallel {display: flex;align-items: stretch;justify-content: center;background-color: white;position: relative;}#sk-container-id-4 div.sk-item::before, #sk-container-id-4 div.sk-parallel-item::before {content: \"\";position: absolute;border-left: 1px solid gray;box-sizing: border-box;top: 0;bottom: 0;left: 50%;z-index: -1;}#sk-container-id-4 div.sk-parallel-item {display: flex;flex-direction: column;z-index: 1;position: relative;background-color: white;}#sk-container-id-4 div.sk-parallel-item:first-child::after {align-self: flex-end;width: 50%;}#sk-container-id-4 div.sk-parallel-item:last-child::after {align-self: flex-start;width: 50%;}#sk-container-id-4 div.sk-parallel-item:only-child::after {width: 0;}#sk-container-id-4 div.sk-dashed-wrapped {border: 1px dashed gray;margin: 0 0.4em 0.5em 0.4em;box-sizing: border-box;padding-bottom: 0.4em;background-color: white;}#sk-container-id-4 div.sk-label label {font-family: monospace;font-weight: bold;display: inline-block;line-height: 1.2em;}#sk-container-id-4 div.sk-label-container {text-align: center;}#sk-container-id-4 div.sk-container {/* jupyter's `normalize.less` sets `[hidden] { display: none; }` but bootstrap.min.css set `[hidden] { display: none !important; }` so we also need the `!important` here to be able to override the default hidden behavior on the sphinx rendered scikit-learn.org. See: https://github.com/scikit-learn/scikit-learn/issues/21755 */display: inline-block !important;position: relative;}#sk-container-id-4 div.sk-text-repr-fallback {display: none;}</style><div id=\"sk-container-id-4\" class=\"sk-top-container\"><div class=\"sk-text-repr-fallback\"><pre>OneClassSVM(gamma=&#x27;auto&#x27;, nu=0.1)</pre><b>In a Jupyter environment, please rerun this cell to show the HTML representation or trust the notebook. <br />On GitHub, the HTML representation is unable to render, please try loading this page with nbviewer.org.</b></div><div class=\"sk-container\" hidden><div class=\"sk-item\"><div class=\"sk-estimator sk-toggleable\"><input class=\"sk-toggleable__control sk-hidden--visually\" id=\"sk-estimator-id-4\" type=\"checkbox\" checked><label for=\"sk-estimator-id-4\" class=\"sk-toggleable__label sk-toggleable__label-arrow\">OneClassSVM</label><div class=\"sk-toggleable__content\"><pre>OneClassSVM(gamma=&#x27;auto&#x27;, nu=0.1)</pre></div></div></div></div></div>"
      ],
      "text/plain": [
       "OneClassSVM(gamma='auto', nu=0.1)"
      ]
     },
     "execution_count": 46,
     "metadata": {},
     "output_type": "execute_result"
    }
   ],
   "source": [
    "# Initialize and fit the One-Class SVM model\n",
    "svm_model = OneClassSVM(kernel='rbf', gamma='auto', nu=0.1)\n",
    "svm_model.fit(X_train)"
   ]
  },
  {
   "cell_type": "code",
   "execution_count": 47,
   "id": "433fe1ec-5963-4878-b2e6-0beaaae13f54",
   "metadata": {},
   "outputs": [],
   "source": [
    "# Predict anomalies with One-Class SVM\n",
    "y_pred_svm = svm_model.predict(X_test)\n",
    "y_pred_svm = np.where(y_pred_svm == -1, 1, 0)  # Convert predictions"
   ]
  },
  {
   "cell_type": "code",
   "execution_count": 48,
   "id": "98ad8641-7e8b-4a6d-b2ad-df2d4892aae5",
   "metadata": {},
   "outputs": [],
   "source": [
    "# Calculate accuracy and other metrics for SVM\n",
    "cm_svm = confusion_matrix(y_test, y_pred_svm)\n",
    "report_svm = classification_report(y_test, y_pred_svm, output_dict=True)\n",
    "accuracy_svm = accuracy_score(y_test, y_pred_svm)"
   ]
  },
  {
   "cell_type": "code",
   "execution_count": 49,
   "id": "17ca81f3-d539-49cd-b664-494a89ace545",
   "metadata": {},
   "outputs": [],
   "source": [
    "# Store SVM results\n",
    "results_svm = {\n",
    "    'model': 'One-Class SVM',\n",
    "    'precision': report_svm['1']['precision'],\n",
    "    'recall': report_svm['1']['recall'],\n",
    "    'f1-score': report_svm['1']['f1-score'],\n",
    "    'support': report_svm['1']['support'],\n",
    "    'accuracy': accuracy_svm\n",
    "}"
   ]
  },
  {
   "cell_type": "markdown",
   "id": "faab5eef-9360-48dc-bbd0-97160b73bf0c",
   "metadata": {},
   "source": [
    "## AutoEncoder Results"
   ]
  },
  {
   "cell_type": "code",
   "execution_count": 50,
   "id": "59d2fba0-d9e2-4953-b7ae-11f6a8df8f4b",
   "metadata": {},
   "outputs": [],
   "source": [
    "# Autoencoder\n",
    "# Normalize the data\n",
    "scaler = StandardScaler()\n",
    "X_train_scaled = scaler.fit_transform(X_train)\n",
    "X_test_scaled = scaler.transform(X_test)"
   ]
  },
  {
   "cell_type": "code",
   "execution_count": 51,
   "id": "6b99abc7-2379-4e37-9295-fed25b7e8f01",
   "metadata": {},
   "outputs": [
    {
     "name": "stderr",
     "output_type": "stream",
     "text": [
      "C:\\Users\\OBAIDA NAEEM\\anaconda3\\Lib\\site-packages\\keras\\src\\layers\\core\\dense.py:87: UserWarning: Do not pass an `input_shape`/`input_dim` argument to a layer. When using Sequential models, prefer using an `Input(shape)` object as the first layer in the model instead.\n",
      "  super().__init__(activity_regularizer=activity_regularizer, **kwargs)\n"
     ]
    }
   ],
   "source": [
    "# Build the Autoencoder model\n",
    "autoencoder = Sequential()\n",
    "autoencoder.add(Dense(64, activation='relu', input_shape=(X_train_scaled.shape[1],)))\n",
    "autoencoder.add(Dense(32, activation='relu'))\n",
    "autoencoder.add(Dense(64, activation='relu'))\n",
    "autoencoder.add(Dense(X_train_scaled.shape[1], activation='sigmoid'))"
   ]
  },
  {
   "cell_type": "code",
   "execution_count": 52,
   "id": "39532a6f-6563-49ba-a2c6-9d821d79e6dd",
   "metadata": {},
   "outputs": [],
   "source": [
    "# Compile the model\n",
    "autoencoder.compile(optimizer='adam', loss='mean_squared_error')"
   ]
  },
  {
   "cell_type": "code",
   "execution_count": 53,
   "id": "b79620fe-3e80-4c0d-8833-08338eec657d",
   "metadata": {},
   "outputs": [
    {
     "name": "stdout",
     "output_type": "stream",
     "text": [
      "Epoch 1/100\n",
      "\u001b[1m112/112\u001b[0m \u001b[32m━━━━━━━━━━━━━━━━━━━━\u001b[0m\u001b[37m\u001b[0m \u001b[1m5s\u001b[0m 13ms/step - loss: 1.0973 - val_loss: 1.0202\n",
      "Epoch 2/100\n",
      "\u001b[1m112/112\u001b[0m \u001b[32m━━━━━━━━━━━━━━━━━━━━\u001b[0m\u001b[37m\u001b[0m \u001b[1m1s\u001b[0m 9ms/step - loss: 0.9848 - val_loss: 1.0187\n",
      "Epoch 3/100\n",
      "\u001b[1m112/112\u001b[0m \u001b[32m━━━━━━━━━━━━━━━━━━━━\u001b[0m\u001b[37m\u001b[0m \u001b[1m1s\u001b[0m 9ms/step - loss: 0.9915 - val_loss: 1.0144\n",
      "Epoch 4/100\n",
      "\u001b[1m112/112\u001b[0m \u001b[32m━━━━━━━━━━━━━━━━━━━━\u001b[0m\u001b[37m\u001b[0m \u001b[1m1s\u001b[0m 9ms/step - loss: 0.9781 - val_loss: 1.0091\n",
      "Epoch 5/100\n",
      "\u001b[1m112/112\u001b[0m \u001b[32m━━━━━━━━━━━━━━━━━━━━\u001b[0m\u001b[37m\u001b[0m \u001b[1m2s\u001b[0m 13ms/step - loss: 0.9844 - val_loss: 1.0045\n",
      "Epoch 6/100\n",
      "\u001b[1m112/112\u001b[0m \u001b[32m━━━━━━━━━━━━━━━━━━━━\u001b[0m\u001b[37m\u001b[0m \u001b[1m2s\u001b[0m 13ms/step - loss: 0.9806 - val_loss: 0.9997\n",
      "Epoch 7/100\n",
      "\u001b[1m112/112\u001b[0m \u001b[32m━━━━━━━━━━━━━━━━━━━━\u001b[0m\u001b[37m\u001b[0m \u001b[1m2s\u001b[0m 15ms/step - loss: 0.9594 - val_loss: 0.9956\n",
      "Epoch 8/100\n",
      "\u001b[1m112/112\u001b[0m \u001b[32m━━━━━━━━━━━━━━━━━━━━\u001b[0m\u001b[37m\u001b[0m \u001b[1m1s\u001b[0m 10ms/step - loss: 0.9659 - val_loss: 0.9923\n",
      "Epoch 9/100\n",
      "\u001b[1m112/112\u001b[0m \u001b[32m━━━━━━━━━━━━━━━━━━━━\u001b[0m\u001b[37m\u001b[0m \u001b[1m2s\u001b[0m 15ms/step - loss: 0.9602 - val_loss: 0.9888\n",
      "Epoch 10/100\n",
      "\u001b[1m112/112\u001b[0m \u001b[32m━━━━━━━━━━━━━━━━━━━━\u001b[0m\u001b[37m\u001b[0m \u001b[1m1s\u001b[0m 9ms/step - loss: 0.9440 - val_loss: 0.9868\n",
      "Epoch 11/100\n",
      "\u001b[1m112/112\u001b[0m \u001b[32m━━━━━━━━━━━━━━━━━━━━\u001b[0m\u001b[37m\u001b[0m \u001b[1m1s\u001b[0m 12ms/step - loss: 0.9548 - val_loss: 0.9851\n",
      "Epoch 12/100\n",
      "\u001b[1m112/112\u001b[0m \u001b[32m━━━━━━━━━━━━━━━━━━━━\u001b[0m\u001b[37m\u001b[0m \u001b[1m1s\u001b[0m 12ms/step - loss: 0.9610 - val_loss: 0.9836\n",
      "Epoch 13/100\n",
      "\u001b[1m112/112\u001b[0m \u001b[32m━━━━━━━━━━━━━━━━━━━━\u001b[0m\u001b[37m\u001b[0m \u001b[1m2s\u001b[0m 14ms/step - loss: 0.9387 - val_loss: 0.9828\n",
      "Epoch 14/100\n",
      "\u001b[1m112/112\u001b[0m \u001b[32m━━━━━━━━━━━━━━━━━━━━\u001b[0m\u001b[37m\u001b[0m \u001b[1m1s\u001b[0m 8ms/step - loss: 0.9393 - val_loss: 0.9824\n",
      "Epoch 15/100\n",
      "\u001b[1m112/112\u001b[0m \u001b[32m━━━━━━━━━━━━━━━━━━━━\u001b[0m\u001b[37m\u001b[0m \u001b[1m1s\u001b[0m 10ms/step - loss: 0.9520 - val_loss: 0.9818\n",
      "Epoch 16/100\n",
      "\u001b[1m112/112\u001b[0m \u001b[32m━━━━━━━━━━━━━━━━━━━━\u001b[0m\u001b[37m\u001b[0m \u001b[1m1s\u001b[0m 9ms/step - loss: 0.9387 - val_loss: 0.9820\n",
      "Epoch 17/100\n",
      "\u001b[1m112/112\u001b[0m \u001b[32m━━━━━━━━━━━━━━━━━━━━\u001b[0m\u001b[37m\u001b[0m \u001b[1m2s\u001b[0m 13ms/step - loss: 0.9351 - val_loss: 0.9822\n",
      "Epoch 18/100\n",
      "\u001b[1m112/112\u001b[0m \u001b[32m━━━━━━━━━━━━━━━━━━━━\u001b[0m\u001b[37m\u001b[0m \u001b[1m1s\u001b[0m 13ms/step - loss: 0.9471 - val_loss: 0.9818\n",
      "Epoch 19/100\n",
      "\u001b[1m112/112\u001b[0m \u001b[32m━━━━━━━━━━━━━━━━━━━━\u001b[0m\u001b[37m\u001b[0m \u001b[1m1s\u001b[0m 9ms/step - loss: 0.9548 - val_loss: 0.9821\n",
      "Epoch 20/100\n",
      "\u001b[1m112/112\u001b[0m \u001b[32m━━━━━━━━━━━━━━━━━━━━\u001b[0m\u001b[37m\u001b[0m \u001b[1m1s\u001b[0m 11ms/step - loss: 0.9165 - val_loss: 0.9821\n",
      "Epoch 21/100\n",
      "\u001b[1m112/112\u001b[0m \u001b[32m━━━━━━━━━━━━━━━━━━━━\u001b[0m\u001b[37m\u001b[0m \u001b[1m1s\u001b[0m 10ms/step - loss: 0.9411 - val_loss: 0.9823\n",
      "Epoch 22/100\n",
      "\u001b[1m112/112\u001b[0m \u001b[32m━━━━━━━━━━━━━━━━━━━━\u001b[0m\u001b[37m\u001b[0m \u001b[1m1s\u001b[0m 8ms/step - loss: 0.9293 - val_loss: 0.9821\n",
      "Epoch 23/100\n",
      "\u001b[1m112/112\u001b[0m \u001b[32m━━━━━━━━━━━━━━━━━━━━\u001b[0m\u001b[37m\u001b[0m \u001b[1m1s\u001b[0m 11ms/step - loss: 0.9411 - val_loss: 0.9824\n",
      "Epoch 24/100\n",
      "\u001b[1m112/112\u001b[0m \u001b[32m━━━━━━━━━━━━━━━━━━━━\u001b[0m\u001b[37m\u001b[0m \u001b[1m1s\u001b[0m 11ms/step - loss: 0.9396 - val_loss: 0.9822\n",
      "Epoch 25/100\n",
      "\u001b[1m112/112\u001b[0m \u001b[32m━━━━━━━━━━━━━━━━━━━━\u001b[0m\u001b[37m\u001b[0m \u001b[1m1s\u001b[0m 8ms/step - loss: 0.9441 - val_loss: 0.9824\n",
      "Epoch 26/100\n",
      "\u001b[1m112/112\u001b[0m \u001b[32m━━━━━━━━━━━━━━━━━━━━\u001b[0m\u001b[37m\u001b[0m \u001b[1m1s\u001b[0m 10ms/step - loss: 0.9219 - val_loss: 0.9825\n",
      "Epoch 27/100\n",
      "\u001b[1m112/112\u001b[0m \u001b[32m━━━━━━━━━━━━━━━━━━━━\u001b[0m\u001b[37m\u001b[0m \u001b[1m2s\u001b[0m 13ms/step - loss: 0.9298 - val_loss: 0.9827\n",
      "Epoch 28/100\n",
      "\u001b[1m112/112\u001b[0m \u001b[32m━━━━━━━━━━━━━━━━━━━━\u001b[0m\u001b[37m\u001b[0m \u001b[1m2s\u001b[0m 14ms/step - loss: 0.9293 - val_loss: 0.9824\n",
      "Epoch 29/100\n",
      "\u001b[1m112/112\u001b[0m \u001b[32m━━━━━━━━━━━━━━━━━━━━\u001b[0m\u001b[37m\u001b[0m \u001b[1m1s\u001b[0m 12ms/step - loss: 0.9443 - val_loss: 0.9824\n",
      "Epoch 30/100\n",
      "\u001b[1m112/112\u001b[0m \u001b[32m━━━━━━━━━━━━━━━━━━━━\u001b[0m\u001b[37m\u001b[0m \u001b[1m2s\u001b[0m 14ms/step - loss: 0.9275 - val_loss: 0.9826\n",
      "Epoch 31/100\n",
      "\u001b[1m112/112\u001b[0m \u001b[32m━━━━━━━━━━━━━━━━━━━━\u001b[0m\u001b[37m\u001b[0m \u001b[1m1s\u001b[0m 13ms/step - loss: 0.9373 - val_loss: 0.9825\n",
      "Epoch 32/100\n",
      "\u001b[1m112/112\u001b[0m \u001b[32m━━━━━━━━━━━━━━━━━━━━\u001b[0m\u001b[37m\u001b[0m \u001b[1m2s\u001b[0m 14ms/step - loss: 0.9439 - val_loss: 0.9825\n",
      "Epoch 33/100\n",
      "\u001b[1m112/112\u001b[0m \u001b[32m━━━━━━━━━━━━━━━━━━━━\u001b[0m\u001b[37m\u001b[0m \u001b[1m2s\u001b[0m 14ms/step - loss: 0.9344 - val_loss: 0.9826\n",
      "Epoch 34/100\n",
      "\u001b[1m112/112\u001b[0m \u001b[32m━━━━━━━━━━━━━━━━━━━━\u001b[0m\u001b[37m\u001b[0m \u001b[1m2s\u001b[0m 14ms/step - loss: 0.9327 - val_loss: 0.9817\n",
      "Epoch 35/100\n",
      "\u001b[1m112/112\u001b[0m \u001b[32m━━━━━━━━━━━━━━━━━━━━\u001b[0m\u001b[37m\u001b[0m \u001b[1m1s\u001b[0m 12ms/step - loss: 0.9243 - val_loss: 0.9816\n",
      "Epoch 36/100\n",
      "\u001b[1m112/112\u001b[0m \u001b[32m━━━━━━━━━━━━━━━━━━━━\u001b[0m\u001b[37m\u001b[0m \u001b[1m1s\u001b[0m 8ms/step - loss: 0.9480 - val_loss: 0.9818\n",
      "Epoch 37/100\n",
      "\u001b[1m112/112\u001b[0m \u001b[32m━━━━━━━━━━━━━━━━━━━━\u001b[0m\u001b[37m\u001b[0m \u001b[1m1s\u001b[0m 9ms/step - loss: 0.9393 - val_loss: 0.9820\n",
      "Epoch 38/100\n",
      "\u001b[1m112/112\u001b[0m \u001b[32m━━━━━━━━━━━━━━━━━━━━\u001b[0m\u001b[37m\u001b[0m \u001b[1m2s\u001b[0m 15ms/step - loss: 0.9428 - val_loss: 0.9812\n",
      "Epoch 39/100\n",
      "\u001b[1m112/112\u001b[0m \u001b[32m━━━━━━━━━━━━━━━━━━━━\u001b[0m\u001b[37m\u001b[0m \u001b[1m2s\u001b[0m 14ms/step - loss: 0.9410 - val_loss: 0.9816\n",
      "Epoch 40/100\n",
      "\u001b[1m112/112\u001b[0m \u001b[32m━━━━━━━━━━━━━━━━━━━━\u001b[0m\u001b[37m\u001b[0m \u001b[1m1s\u001b[0m 11ms/step - loss: 0.9229 - val_loss: 0.9812\n",
      "Epoch 41/100\n",
      "\u001b[1m112/112\u001b[0m \u001b[32m━━━━━━━━━━━━━━━━━━━━\u001b[0m\u001b[37m\u001b[0m \u001b[1m1s\u001b[0m 11ms/step - loss: 0.9282 - val_loss: 0.9811\n",
      "Epoch 42/100\n",
      "\u001b[1m112/112\u001b[0m \u001b[32m━━━━━━━━━━━━━━━━━━━━\u001b[0m\u001b[37m\u001b[0m \u001b[1m2s\u001b[0m 15ms/step - loss: 0.9450 - val_loss: 0.9817\n",
      "Epoch 43/100\n",
      "\u001b[1m112/112\u001b[0m \u001b[32m━━━━━━━━━━━━━━━━━━━━\u001b[0m\u001b[37m\u001b[0m \u001b[1m2s\u001b[0m 15ms/step - loss: 0.9231 - val_loss: 0.9812\n",
      "Epoch 44/100\n",
      "\u001b[1m112/112\u001b[0m \u001b[32m━━━━━━━━━━━━━━━━━━━━\u001b[0m\u001b[37m\u001b[0m \u001b[1m1s\u001b[0m 10ms/step - loss: 0.9347 - val_loss: 0.9814\n",
      "Epoch 45/100\n",
      "\u001b[1m112/112\u001b[0m \u001b[32m━━━━━━━━━━━━━━━━━━━━\u001b[0m\u001b[37m\u001b[0m \u001b[1m2s\u001b[0m 13ms/step - loss: 0.9318 - val_loss: 0.9817\n",
      "Epoch 46/100\n",
      "\u001b[1m112/112\u001b[0m \u001b[32m━━━━━━━━━━━━━━━━━━━━\u001b[0m\u001b[37m\u001b[0m \u001b[1m1s\u001b[0m 13ms/step - loss: 0.9312 - val_loss: 0.9817\n",
      "Epoch 47/100\n",
      "\u001b[1m112/112\u001b[0m \u001b[32m━━━━━━━━━━━━━━━━━━━━\u001b[0m\u001b[37m\u001b[0m \u001b[1m1s\u001b[0m 11ms/step - loss: 0.9227 - val_loss: 0.9817\n",
      "Epoch 48/100\n",
      "\u001b[1m112/112\u001b[0m \u001b[32m━━━━━━━━━━━━━━━━━━━━\u001b[0m\u001b[37m\u001b[0m \u001b[1m1s\u001b[0m 12ms/step - loss: 0.9315 - val_loss: 0.9820\n",
      "Epoch 49/100\n",
      "\u001b[1m112/112\u001b[0m \u001b[32m━━━━━━━━━━━━━━━━━━━━\u001b[0m\u001b[37m\u001b[0m \u001b[1m1s\u001b[0m 11ms/step - loss: 0.9287 - val_loss: 0.9816\n",
      "Epoch 50/100\n",
      "\u001b[1m112/112\u001b[0m \u001b[32m━━━━━━━━━━━━━━━━━━━━\u001b[0m\u001b[37m\u001b[0m \u001b[1m1s\u001b[0m 11ms/step - loss: 0.9232 - val_loss: 0.9818\n",
      "Epoch 51/100\n",
      "\u001b[1m112/112\u001b[0m \u001b[32m━━━━━━━━━━━━━━━━━━━━\u001b[0m\u001b[37m\u001b[0m \u001b[1m2s\u001b[0m 15ms/step - loss: 0.9330 - val_loss: 0.9815\n",
      "Epoch 52/100\n",
      "\u001b[1m112/112\u001b[0m \u001b[32m━━━━━━━━━━━━━━━━━━━━\u001b[0m\u001b[37m\u001b[0m \u001b[1m1s\u001b[0m 11ms/step - loss: 0.9338 - val_loss: 0.9819\n",
      "Epoch 53/100\n",
      "\u001b[1m112/112\u001b[0m \u001b[32m━━━━━━━━━━━━━━━━━━━━\u001b[0m\u001b[37m\u001b[0m \u001b[1m1s\u001b[0m 12ms/step - loss: 0.9265 - val_loss: 0.9813\n",
      "Epoch 54/100\n",
      "\u001b[1m112/112\u001b[0m \u001b[32m━━━━━━━━━━━━━━━━━━━━\u001b[0m\u001b[37m\u001b[0m \u001b[1m2s\u001b[0m 13ms/step - loss: 0.9220 - val_loss: 0.9812\n",
      "Epoch 55/100\n",
      "\u001b[1m112/112\u001b[0m \u001b[32m━━━━━━━━━━━━━━━━━━━━\u001b[0m\u001b[37m\u001b[0m \u001b[1m2s\u001b[0m 13ms/step - loss: 0.9476 - val_loss: 0.9813\n",
      "Epoch 56/100\n",
      "\u001b[1m112/112\u001b[0m \u001b[32m━━━━━━━━━━━━━━━━━━━━\u001b[0m\u001b[37m\u001b[0m \u001b[1m1s\u001b[0m 12ms/step - loss: 0.9445 - val_loss: 0.9814\n",
      "Epoch 57/100\n",
      "\u001b[1m112/112\u001b[0m \u001b[32m━━━━━━━━━━━━━━━━━━━━\u001b[0m\u001b[37m\u001b[0m \u001b[1m1s\u001b[0m 11ms/step - loss: 0.9310 - val_loss: 0.9811\n",
      "Epoch 58/100\n",
      "\u001b[1m112/112\u001b[0m \u001b[32m━━━━━━━━━━━━━━━━━━━━\u001b[0m\u001b[37m\u001b[0m \u001b[1m1s\u001b[0m 12ms/step - loss: 0.9284 - val_loss: 0.9808\n",
      "Epoch 59/100\n",
      "\u001b[1m112/112\u001b[0m \u001b[32m━━━━━━━━━━━━━━━━━━━━\u001b[0m\u001b[37m\u001b[0m \u001b[1m1s\u001b[0m 11ms/step - loss: 0.9299 - val_loss: 0.9811\n",
      "Epoch 60/100\n",
      "\u001b[1m112/112\u001b[0m \u001b[32m━━━━━━━━━━━━━━━━━━━━\u001b[0m\u001b[37m\u001b[0m \u001b[1m1s\u001b[0m 11ms/step - loss: 0.9314 - val_loss: 0.9813\n",
      "Epoch 61/100\n",
      "\u001b[1m112/112\u001b[0m \u001b[32m━━━━━━━━━━━━━━━━━━━━\u001b[0m\u001b[37m\u001b[0m \u001b[1m1s\u001b[0m 10ms/step - loss: 0.9353 - val_loss: 0.9809\n",
      "Epoch 62/100\n",
      "\u001b[1m112/112\u001b[0m \u001b[32m━━━━━━━━━━━━━━━━━━━━\u001b[0m\u001b[37m\u001b[0m \u001b[1m1s\u001b[0m 12ms/step - loss: 0.9240 - val_loss: 0.9812\n",
      "Epoch 63/100\n",
      "\u001b[1m112/112\u001b[0m \u001b[32m━━━━━━━━━━━━━━━━━━━━\u001b[0m\u001b[37m\u001b[0m \u001b[1m1s\u001b[0m 12ms/step - loss: 0.9464 - val_loss: 0.9806\n",
      "Epoch 64/100\n",
      "\u001b[1m112/112\u001b[0m \u001b[32m━━━━━━━━━━━━━━━━━━━━\u001b[0m\u001b[37m\u001b[0m \u001b[1m2s\u001b[0m 15ms/step - loss: 0.9340 - val_loss: 0.9813\n",
      "Epoch 65/100\n",
      "\u001b[1m112/112\u001b[0m \u001b[32m━━━━━━━━━━━━━━━━━━━━\u001b[0m\u001b[37m\u001b[0m \u001b[1m2s\u001b[0m 13ms/step - loss: 0.9387 - val_loss: 0.9802\n",
      "Epoch 66/100\n",
      "\u001b[1m112/112\u001b[0m \u001b[32m━━━━━━━━━━━━━━━━━━━━\u001b[0m\u001b[37m\u001b[0m \u001b[1m1s\u001b[0m 13ms/step - loss: 0.9439 - val_loss: 0.9807\n",
      "Epoch 67/100\n",
      "\u001b[1m112/112\u001b[0m \u001b[32m━━━━━━━━━━━━━━━━━━━━\u001b[0m\u001b[37m\u001b[0m \u001b[1m1s\u001b[0m 12ms/step - loss: 0.9319 - val_loss: 0.9801\n",
      "Epoch 68/100\n",
      "\u001b[1m112/112\u001b[0m \u001b[32m━━━━━━━━━━━━━━━━━━━━\u001b[0m\u001b[37m\u001b[0m \u001b[1m2s\u001b[0m 14ms/step - loss: 0.9398 - val_loss: 0.9813\n",
      "Epoch 69/100\n",
      "\u001b[1m112/112\u001b[0m \u001b[32m━━━━━━━━━━━━━━━━━━━━\u001b[0m\u001b[37m\u001b[0m \u001b[1m1s\u001b[0m 12ms/step - loss: 0.9387 - val_loss: 0.9805\n",
      "Epoch 70/100\n",
      "\u001b[1m112/112\u001b[0m \u001b[32m━━━━━━━━━━━━━━━━━━━━\u001b[0m\u001b[37m\u001b[0m \u001b[1m2s\u001b[0m 13ms/step - loss: 0.9404 - val_loss: 0.9810\n",
      "Epoch 71/100\n",
      "\u001b[1m112/112\u001b[0m \u001b[32m━━━━━━━━━━━━━━━━━━━━\u001b[0m\u001b[37m\u001b[0m \u001b[1m2s\u001b[0m 14ms/step - loss: 0.9395 - val_loss: 0.9810\n",
      "Epoch 72/100\n",
      "\u001b[1m112/112\u001b[0m \u001b[32m━━━━━━━━━━━━━━━━━━━━\u001b[0m\u001b[37m\u001b[0m \u001b[1m2s\u001b[0m 15ms/step - loss: 0.9252 - val_loss: 0.9802\n",
      "Epoch 73/100\n",
      "\u001b[1m112/112\u001b[0m \u001b[32m━━━━━━━━━━━━━━━━━━━━\u001b[0m\u001b[37m\u001b[0m \u001b[1m2s\u001b[0m 14ms/step - loss: 0.9363 - val_loss: 0.9812\n",
      "Epoch 74/100\n",
      "\u001b[1m112/112\u001b[0m \u001b[32m━━━━━━━━━━━━━━━━━━━━\u001b[0m\u001b[37m\u001b[0m \u001b[1m2s\u001b[0m 14ms/step - loss: 0.9314 - val_loss: 0.9808\n",
      "Epoch 75/100\n",
      "\u001b[1m112/112\u001b[0m \u001b[32m━━━━━━━━━━━━━━━━━━━━\u001b[0m\u001b[37m\u001b[0m \u001b[1m2s\u001b[0m 14ms/step - loss: 0.9242 - val_loss: 0.9811\n",
      "Epoch 76/100\n",
      "\u001b[1m112/112\u001b[0m \u001b[32m━━━━━━━━━━━━━━━━━━━━\u001b[0m\u001b[37m\u001b[0m \u001b[1m1s\u001b[0m 12ms/step - loss: 0.9342 - val_loss: 0.9811\n",
      "Epoch 77/100\n",
      "\u001b[1m112/112\u001b[0m \u001b[32m━━━━━━━━━━━━━━━━━━━━\u001b[0m\u001b[37m\u001b[0m \u001b[1m1s\u001b[0m 12ms/step - loss: 0.9371 - val_loss: 0.9811\n",
      "Epoch 78/100\n",
      "\u001b[1m112/112\u001b[0m \u001b[32m━━━━━━━━━━━━━━━━━━━━\u001b[0m\u001b[37m\u001b[0m \u001b[1m1s\u001b[0m 12ms/step - loss: 0.9476 - val_loss: 0.9813\n",
      "Epoch 79/100\n",
      "\u001b[1m112/112\u001b[0m \u001b[32m━━━━━━━━━━━━━━━━━━━━\u001b[0m\u001b[37m\u001b[0m \u001b[1m2s\u001b[0m 13ms/step - loss: 0.9305 - val_loss: 0.9813\n",
      "Epoch 80/100\n",
      "\u001b[1m112/112\u001b[0m \u001b[32m━━━━━━━━━━━━━━━━━━━━\u001b[0m\u001b[37m\u001b[0m \u001b[1m2s\u001b[0m 14ms/step - loss: 0.9305 - val_loss: 0.9810\n",
      "Epoch 81/100\n",
      "\u001b[1m112/112\u001b[0m \u001b[32m━━━━━━━━━━━━━━━━━━━━\u001b[0m\u001b[37m\u001b[0m \u001b[1m2s\u001b[0m 13ms/step - loss: 0.9406 - val_loss: 0.9808\n",
      "Epoch 82/100\n",
      "\u001b[1m112/112\u001b[0m \u001b[32m━━━━━━━━━━━━━━━━━━━━\u001b[0m\u001b[37m\u001b[0m \u001b[1m1s\u001b[0m 13ms/step - loss: 0.9240 - val_loss: 0.9812\n",
      "Epoch 83/100\n",
      "\u001b[1m112/112\u001b[0m \u001b[32m━━━━━━━━━━━━━━━━━━━━\u001b[0m\u001b[37m\u001b[0m \u001b[1m1s\u001b[0m 13ms/step - loss: 0.9371 - val_loss: 0.9807\n",
      "Epoch 84/100\n",
      "\u001b[1m112/112\u001b[0m \u001b[32m━━━━━━━━━━━━━━━━━━━━\u001b[0m\u001b[37m\u001b[0m \u001b[1m2s\u001b[0m 14ms/step - loss: 0.9356 - val_loss: 0.9809\n",
      "Epoch 85/100\n",
      "\u001b[1m112/112\u001b[0m \u001b[32m━━━━━━━━━━━━━━━━━━━━\u001b[0m\u001b[37m\u001b[0m \u001b[1m2s\u001b[0m 13ms/step - loss: 0.9144 - val_loss: 0.9811\n",
      "Epoch 86/100\n",
      "\u001b[1m112/112\u001b[0m \u001b[32m━━━━━━━━━━━━━━━━━━━━\u001b[0m\u001b[37m\u001b[0m \u001b[1m1s\u001b[0m 10ms/step - loss: 0.9268 - val_loss: 0.9807\n",
      "Epoch 87/100\n",
      "\u001b[1m112/112\u001b[0m \u001b[32m━━━━━━━━━━━━━━━━━━━━\u001b[0m\u001b[37m\u001b[0m \u001b[1m1s\u001b[0m 13ms/step - loss: 0.9396 - val_loss: 0.9812\n",
      "Epoch 88/100\n",
      "\u001b[1m112/112\u001b[0m \u001b[32m━━━━━━━━━━━━━━━━━━━━\u001b[0m\u001b[37m\u001b[0m \u001b[1m1s\u001b[0m 12ms/step - loss: 0.9263 - val_loss: 0.9813\n",
      "Epoch 89/100\n",
      "\u001b[1m112/112\u001b[0m \u001b[32m━━━━━━━━━━━━━━━━━━━━\u001b[0m\u001b[37m\u001b[0m \u001b[1m1s\u001b[0m 11ms/step - loss: 0.9275 - val_loss: 0.9806\n",
      "Epoch 90/100\n",
      "\u001b[1m112/112\u001b[0m \u001b[32m━━━━━━━━━━━━━━━━━━━━\u001b[0m\u001b[37m\u001b[0m \u001b[1m1s\u001b[0m 12ms/step - loss: 0.9276 - val_loss: 0.9803\n",
      "Epoch 91/100\n",
      "\u001b[1m112/112\u001b[0m \u001b[32m━━━━━━━━━━━━━━━━━━━━\u001b[0m\u001b[37m\u001b[0m \u001b[1m1s\u001b[0m 12ms/step - loss: 0.9325 - val_loss: 0.9798\n",
      "Epoch 92/100\n",
      "\u001b[1m112/112\u001b[0m \u001b[32m━━━━━━━━━━━━━━━━━━━━\u001b[0m\u001b[37m\u001b[0m \u001b[1m1s\u001b[0m 11ms/step - loss: 0.9566 - val_loss: 0.9800\n",
      "Epoch 93/100\n",
      "\u001b[1m112/112\u001b[0m \u001b[32m━━━━━━━━━━━━━━━━━━━━\u001b[0m\u001b[37m\u001b[0m \u001b[1m2s\u001b[0m 13ms/step - loss: 0.9501 - val_loss: 0.9802\n",
      "Epoch 94/100\n",
      "\u001b[1m112/112\u001b[0m \u001b[32m━━━━━━━━━━━━━━━━━━━━\u001b[0m\u001b[37m\u001b[0m \u001b[1m2s\u001b[0m 14ms/step - loss: 0.9441 - val_loss: 0.9807\n",
      "Epoch 95/100\n",
      "\u001b[1m112/112\u001b[0m \u001b[32m━━━━━━━━━━━━━━━━━━━━\u001b[0m\u001b[37m\u001b[0m \u001b[1m1s\u001b[0m 11ms/step - loss: 0.9230 - val_loss: 0.9807\n",
      "Epoch 96/100\n",
      "\u001b[1m112/112\u001b[0m \u001b[32m━━━━━━━━━━━━━━━━━━━━\u001b[0m\u001b[37m\u001b[0m \u001b[1m1s\u001b[0m 12ms/step - loss: 0.9250 - val_loss: 0.9805\n",
      "Epoch 97/100\n",
      "\u001b[1m112/112\u001b[0m \u001b[32m━━━━━━━━━━━━━━━━━━━━\u001b[0m\u001b[37m\u001b[0m \u001b[1m2s\u001b[0m 14ms/step - loss: 0.9294 - val_loss: 0.9806\n",
      "Epoch 98/100\n",
      "\u001b[1m112/112\u001b[0m \u001b[32m━━━━━━━━━━━━━━━━━━━━\u001b[0m\u001b[37m\u001b[0m \u001b[1m2s\u001b[0m 13ms/step - loss: 0.9308 - val_loss: 0.9810\n",
      "Epoch 99/100\n",
      "\u001b[1m112/112\u001b[0m \u001b[32m━━━━━━━━━━━━━━━━━━━━\u001b[0m\u001b[37m\u001b[0m \u001b[1m1s\u001b[0m 10ms/step - loss: 0.9334 - val_loss: 0.9808\n",
      "Epoch 100/100\n",
      "\u001b[1m112/112\u001b[0m \u001b[32m━━━━━━━━━━━━━━━━━━━━\u001b[0m\u001b[37m\u001b[0m \u001b[1m1s\u001b[0m 12ms/step - loss: 0.9406 - val_loss: 0.9808\n"
     ]
    },
    {
     "data": {
      "text/plain": [
       "<keras.src.callbacks.history.History at 0x2383ba88e10>"
      ]
     },
     "execution_count": 53,
     "metadata": {},
     "output_type": "execute_result"
    }
   ],
   "source": [
    "# Train the Autoencoder\n",
    "autoencoder.fit(X_train_scaled, X_train_scaled, epochs=100, batch_size=32, validation_split=0.2, verbose=1)"
   ]
  },
  {
   "cell_type": "code",
   "execution_count": 54,
   "id": "d0ab7f17-e75a-4ca0-a2bc-825ff09a89a2",
   "metadata": {},
   "outputs": [
    {
     "name": "stdout",
     "output_type": "stream",
     "text": [
      "\u001b[1m35/35\u001b[0m \u001b[32m━━━━━━━━━━━━━━━━━━━━\u001b[0m\u001b[37m\u001b[0m \u001b[1m0s\u001b[0m 9ms/step\n"
     ]
    }
   ],
   "source": [
    "# Predict using the Autoencoder\n",
    "X_test_pred = autoencoder.predict(X_test_scaled)\n",
    "mse = np.mean(np.power(X_test_scaled - X_test_pred, 2), axis=1)\n",
    "threshold = np.percentile(mse, 95)  # Set threshold for anomaly detection\n",
    "y_pred_autoencoder = [1 if mse_i > threshold else 0 for mse_i in mse] "
   ]
  },
  {
   "cell_type": "code",
   "execution_count": 55,
   "id": "d297a932-f438-471a-a693-356240b17c89",
   "metadata": {},
   "outputs": [],
   "source": [
    "# Calculate accuracy and other metrics for Autoencoder\n",
    "cm_autoencoder = confusion_matrix(y_test, y_pred_autoencoder)\n",
    "report_autoencoder = classification_report(y_test, y_pred_autoencoder, output_dict=True)\n",
    "accuracy_autoencoder = accuracy_score(y_test, y_pred_autoencoder)"
   ]
  },
  {
   "cell_type": "code",
   "execution_count": 56,
   "id": "85ab78ad-f71c-4235-8c2d-1d2297618a4d",
   "metadata": {},
   "outputs": [],
   "source": [
    "# Store Autoencoder results\n",
    "results_autoencoder = {\n",
    "    'model': 'Autoencoder',\n",
    "    'precision': report_autoencoder['1']['precision'],\n",
    "    'recall': report_autoencoder['1']['recall'],\n",
    "    'f1-score': report_autoencoder['1']['f1-score'],\n",
    "    'support': report_autoencoder['1']['support'],\n",
    "    'accuracy': accuracy_autoencoder\n",
    "}"
   ]
  },
  {
   "cell_type": "code",
   "execution_count": 57,
   "id": "d78046d2-8d16-4929-b709-4160f40aab14",
   "metadata": {},
   "outputs": [
    {
     "name": "stdout",
     "output_type": "stream",
     "text": [
      "Test Results:\n",
      "Model: One-Class SVM\n",
      "Precision: 0.16\n",
      "Recall: 0.23\n",
      "F1-Score: 0.19\n",
      "Support: 149\n",
      "Accuracy: 0.73\n",
      "--------------------------------------------------------------------------------\n",
      "Model: Isolation Forest\n",
      "Precision: 0.52\n",
      "Recall: 0.34\n",
      "F1-Score: 0.41\n",
      "Support: 149\n",
      "Accuracy: 0.87\n",
      "--------------------------------------------------------------------------------\n",
      "Model: Autoencoder\n",
      "Precision: 0.41\n",
      "Recall: 0.15\n",
      "F1-Score: 0.22\n",
      "Support: 149\n",
      "Accuracy: 0.86\n",
      "--------------------------------------------------------------------------------\n"
     ]
    }
   ],
   "source": [
    "# Print results for all models\n",
    "print(\"Test Results:\")\n",
    "for result in [results_svm, results_if, results_autoencoder]:\n",
    "    print(f\"Model: {result['model']}\")\n",
    "    print(f\"Precision: {result['precision']:.2f}\")\n",
    "    print(f\"Recall: {result['recall']:.2f}\")\n",
    "    print(f\"F1-Score: {result['f1-score']:.2f}\")\n",
    "    print(f\"Support: {result['support']}\")\n",
    "    print(f\"Accuracy: {result['accuracy']:.2f}\")\n",
    "    print(\"-\" * 80)"
   ]
  },
  {
   "cell_type": "markdown",
   "id": "4155dccc-30c1-4cb6-b126-295e9297480a",
   "metadata": {},
   "source": [
    "## Test Cases"
   ]
  },
  {
   "cell_type": "code",
   "execution_count": 58,
   "id": "d7ac064a-abb4-4843-9017-4f77df99a17b",
   "metadata": {},
   "outputs": [],
   "source": [
    "legitimate_emails = [\n",
    "    \"Hi John, I hope you are doing well. Please find the attached report for your review. Best regards, Alice.\",\n",
    "    \"Dear Customer, Thank you for your purchase! Your order will be shipped shortly. Sincerely, The Store Team.\",\n",
    "    \"Hello, I wanted to follow up on our last meeting. Let me know if you have any questions. Regards, Bob.\",\n",
    "    \"Reminder: Your appointment is scheduled for next Tuesday at 10 AM. Please confirm your attendance.\",\n",
    "    \"Congratulations! You've been selected for a special offer. Click here to claim your prize.\"\n",
    "]"
   ]
  },
  {
   "cell_type": "code",
   "execution_count": 59,
   "id": "270fad1d-c6c8-427f-90bf-3710ff92f5c8",
   "metadata": {},
   "outputs": [],
   "source": [
    "phishing_emails = [\n",
    "    \"Dear User, Your account has been compromised. Please click the link below to verify your identity: http://fake-link.com\",\n",
    "    \"Urgent: Your payment is overdue! Please provide your credit card information to avoid suspension.\",\n",
    "    \"Congratulations! You've won a $1000 gift card. Click here to claim your prize: http://scam-link.com\",\n",
    "    \"Dear Customer, We need you to verify your account information immediately. Failure to do so will result in account closure.\",\n",
    "    \"Your invoice is attached. Please review and make payment immediately to avoid penalties.\"\n",
    "]"
   ]
  },
  {
   "cell_type": "code",
   "execution_count": 60,
   "id": "9b6fc48f-19fa-44f3-9f4f-6c06f5a7b2f9",
   "metadata": {},
   "outputs": [
    {
     "name": "stdout",
     "output_type": "stream",
     "text": [
      "\u001b[1m1/1\u001b[0m \u001b[32m━━━━━━━━━━━━━━━━━━━━\u001b[0m\u001b[37m\u001b[0m \u001b[1m0s\u001b[0m 88ms/step\n"
     ]
    },
    {
     "name": "stderr",
     "output_type": "stream",
     "text": [
      "C:\\Users\\OBAIDA NAEEM\\anaconda3\\Lib\\site-packages\\sklearn\\base.py:439: UserWarning: X does not have valid feature names, but StandardScaler was fitted with feature names\n",
      "  warnings.warn(\n",
      "C:\\Users\\OBAIDA NAEEM\\anaconda3\\Lib\\site-packages\\sklearn\\base.py:439: UserWarning: X does not have valid feature names, but OneClassSVM was fitted with feature names\n",
      "  warnings.warn(\n"
     ]
    },
    {
     "name": "stdout",
     "output_type": "stream",
     "text": [
      "Email: Hi John, I hope you are doing well. Please find the attached report for your review. Best regards, Alice.\n",
      "SVM Prediction: Legitimate\n",
      "Autoencoder Prediction: Legitimate\n",
      "Isolation Forest Prediction: Legitimate\n",
      "--------------------------------------------------------------------------------\n",
      "Email: Dear Customer, Thank you for your purchase! Your order will be shipped shortly. Sincerely, The Store Team.\n",
      "SVM Prediction: Legitimate\n",
      "Autoencoder Prediction: Legitimate\n",
      "Isolation Forest Prediction: Legitimate\n",
      "--------------------------------------------------------------------------------\n",
      "Email: Hello, I wanted to follow up on our last meeting. Let me know if you have any questions. Regards, Bob.\n",
      "SVM Prediction: Legitimate\n",
      "Autoencoder Prediction: Legitimate\n",
      "Isolation Forest Prediction: Legitimate\n",
      "--------------------------------------------------------------------------------\n",
      "Email: Reminder: Your appointment is scheduled for next Tuesday at 10 AM. Please confirm your attendance.\n",
      "SVM Prediction: Legitimate\n",
      "Autoencoder Prediction: Legitimate\n",
      "Isolation Forest Prediction: Legitimate\n",
      "--------------------------------------------------------------------------------\n",
      "Email: Congratulations! You've been selected for a special offer. Click here to claim your prize.\n",
      "SVM Prediction: Legitimate\n",
      "Autoencoder Prediction: Legitimate\n",
      "Isolation Forest Prediction: Legitimate\n",
      "--------------------------------------------------------------------------------\n",
      "Email: Dear User, Your account has been compromised. Please click the link below to verify your identity: http://fake-link.com\n",
      "SVM Prediction: Phishing\n",
      "Autoencoder Prediction: Phishing\n",
      "Isolation Forest Prediction: Legitimate\n",
      "--------------------------------------------------------------------------------\n",
      "Email: Urgent: Your payment is overdue! Please provide your credit card information to avoid suspension.\n",
      "SVM Prediction: Phishing\n",
      "Autoencoder Prediction: Legitimate\n",
      "Isolation Forest Prediction: Legitimate\n",
      "--------------------------------------------------------------------------------\n",
      "Email: Congratulations! You've won a $1000 gift card. Click here to claim your prize: http://scam-link.com\n",
      "SVM Prediction: Phishing\n",
      "Autoencoder Prediction: Legitimate\n",
      "Isolation Forest Prediction: Legitimate\n",
      "--------------------------------------------------------------------------------\n",
      "Email: Dear Customer, We need you to verify your account information immediately. Failure to do so will result in account closure.\n",
      "SVM Prediction: Legitimate\n",
      "Autoencoder Prediction: Legitimate\n",
      "Isolation Forest Prediction: Legitimate\n",
      "--------------------------------------------------------------------------------\n",
      "Email: Your invoice is attached. Please review and make payment immediately to avoid penalties.\n",
      "SVM Prediction: Phishing\n",
      "Autoencoder Prediction: Legitimate\n",
      "Isolation Forest Prediction: Legitimate\n",
      "--------------------------------------------------------------------------------\n"
     ]
    },
    {
     "name": "stderr",
     "output_type": "stream",
     "text": [
      "C:\\Users\\OBAIDA NAEEM\\anaconda3\\Lib\\site-packages\\sklearn\\base.py:439: UserWarning: X does not have valid feature names, but IsolationForest was fitted with feature names\n",
      "  warnings.warn(\n"
     ]
    }
   ],
   "source": [
    "# Function to test models with provided test cases\n",
    "def test_models(legitimate_emails, phishing_emails, tfidf_vectorizer, svm_model, autoencoder, scaler):\n",
    "    test_cases = legitimate_emails + phishing_emails\n",
    "    processed_cases = [preprocess_text(email) for email in test_cases]\n",
    "    tfidf_cases = tfidf_vectorizer.transform(processed_cases).toarray()\n",
    "    tfidf_cases_scaled = scaler.transform(tfidf_cases)\n",
    "\n",
    "    # Predictions\n",
    "    svm_predictions = svm_model.predict(tfidf_cases)\n",
    "    svm_predictions = np.where(svm_predictions == -1, 1, 0)\n",
    "\n",
    "    autoencoder_predictions = autoencoder.predict(tfidf_cases_scaled)\n",
    "    mse_cases = np.mean(np.power(tfidf_cases_scaled - autoencoder_predictions, 2), axis=1)\n",
    "    autoencoder_threshold = np.percentile(mse_cases, 95)\n",
    "    autoencoder_predictions = [1 if mse_i > autoencoder_threshold else 0 for mse_i in mse_cases]\n",
    "\n",
    "    isolation_forest_predictions = model.predict(tfidf_cases)\n",
    "    isolation_forest_predictions = np.where(isolation_forest_predictions == -1, 1, 0)\n",
    "\n",
    "    # Print results\n",
    "    for i, email in enumerate(test_cases):\n",
    "        print(f\"Email: {email}\")\n",
    "        print(f\"SVM Prediction: {'Phishing' if svm_predictions[i] == 1 else 'Legitimate'}\")\n",
    "        print(f\"Autoencoder Prediction: {'Phishing' if autoencoder_predictions[i] == 1 else 'Legitimate'}\")\n",
    "        print(f\"Isolation Forest Prediction: {'Phishing' if isolation_forest_predictions[i] == 1 else 'Legitimate'}\")\n",
    "        print(\"-\" * 80)\n",
    "\n",
    "# Run the test with the defined test cases\n",
    "test_models(legitimate_emails, phishing_emails, tfidf_vectorizer, svm_model, autoencoder, scaler)"
   ]
  },
  {
   "cell_type": "markdown",
   "id": "434eff53-ef8d-44e2-9c5c-5139fab35b2b",
   "metadata": {},
   "source": [
    "## Flask API"
   ]
  },
  {
   "cell_type": "code",
   "execution_count": 61,
   "id": "b156dbdb-e6c0-40ad-a736-6b70eb472962",
   "metadata": {},
   "outputs": [],
   "source": [
    "import pickle"
   ]
  },
  {
   "cell_type": "code",
   "execution_count": 62,
   "id": "9299e1e0-7967-4cb6-b2b0-9cb32513dfc4",
   "metadata": {},
   "outputs": [],
   "source": [
    "# Assuming best_svm is your trained One-Class SVM model\n",
    "with open(\"one_class_svm_model.pkl\", \"wb\") as f:\n",
    "    pickle.dump(svm_model, f)"
   ]
  },
  {
   "cell_type": "code",
   "execution_count": 63,
   "id": "94371389-a1c7-4c8a-866b-cd0a01adbed5",
   "metadata": {},
   "outputs": [],
   "source": [
    "# Assuming tfidf_vectorizer is your trained TF-IDF vectorizer\n",
    "with open(\"one_class_vectorizer.pkl\", \"wb\") as f:\n",
    "    pickle.dump(tfidf_vectorizer, f)"
   ]
  },
  {
   "cell_type": "code",
   "execution_count": null,
   "id": "068d78b0-acf8-4e6c-96ea-dfbd51273daa",
   "metadata": {},
   "outputs": [],
   "source": []
  }
 ],
 "metadata": {
  "kernelspec": {
   "display_name": "Python 3 (ipykernel)",
   "language": "python",
   "name": "python3"
  },
  "language_info": {
   "codemirror_mode": {
    "name": "ipython",
    "version": 3
   },
   "file_extension": ".py",
   "mimetype": "text/x-python",
   "name": "python",
   "nbconvert_exporter": "python",
   "pygments_lexer": "ipython3",
   "version": "3.11.7"
  }
 },
 "nbformat": 4,
 "nbformat_minor": 5
}
